{
  "cells": [
    {
      "cell_type": "markdown",
      "metadata": {
        "id": "hX4n9TsbGw-f"
      },
      "source": [
        "##### Copyright 2018 The TensorFlow Authors."
      ]
    },
    {
      "cell_type": "code",
      "execution_count": 3,
      "metadata": {
        "cellView": "form",
        "id": "0nbI5DtDGw-i"
      },
      "outputs": [],
      "source": [
        "#@title Licensed under the Apache License, Version 2.0 (the \"License\");\n",
        "# you may not use this file except in compliance with the License.\n",
        "# You may obtain a copy of the License at\n",
        "#\n",
        "# https://www.apache.org/licenses/LICENSE-2.0\n",
        "#\n",
        "# Unless required by applicable law or agreed to in writing, software\n",
        "# distributed under the License is distributed on an \"AS IS\" BASIS,\n",
        "# WITHOUT WARRANTIES OR CONDITIONS OF ANY KIND, either express or implied.\n",
        "# See the License for the specific language governing permissions and\n",
        "# limitations under the License."
      ]
    },
    {
      "cell_type": "markdown",
      "metadata": {
        "id": "9TnJztDZGw-n"
      },
      "source": [
        "# Text classification with an RNN"
      ]
    },
    {
      "cell_type": "markdown",
      "metadata": {
        "id": "AfN3bMR5Gw-o"
      },
      "source": [
        "<table class=\"tfo-notebook-buttons\" align=\"left\">\n",
        "  <td>\n",
        "    <a target=\"_blank\" href=\"https://www.tensorflow.org/text/tutorials/text_classification_rnn\"><img src=\"https://www.tensorflow.org/images/tf_logo_32px.png\" />View on TensorFlow.org</a>\n",
        "  </td>\n",
        "  <td>\n",
        "    <a target=\"_blank\" href=\"https://colab.research.google.com/github/tensorflow/text/blob/master/docs/tutorials/text_classification_rnn.ipynb\"><img src=\"https://www.tensorflow.org/images/colab_logo_32px.png\" />Run in Google Colab</a>\n",
        "  </td>\n",
        "  <td>\n",
        "    <a target=\"_blank\" href=\"https://github.com/tensorflow/text/blob/master/docs/tutorials/text_classification_rnn.ipynb\"><img src=\"https://www.tensorflow.org/images/GitHub-Mark-32px.png\" />View source on GitHub</a>\n",
        "  </td>\n",
        "  <td>\n",
        "    <a href=\"https://storage.googleapis.com/tensorflow_docs/text/docs/tutorials/text_classification_rnn.ipynb\"><img src=\"https://www.tensorflow.org/images/download_logo_32px.png\" />Download notebook</a>\n",
        "  </td>\n",
        "</table>"
      ]
    },
    {
      "cell_type": "markdown",
      "metadata": {
        "id": "lUWearf0Gw-p"
      },
      "source": [
        "This text classification tutorial trains a [recurrent neural network](https://developers.google.com/machine-learning/glossary/#recurrent_neural_network) on the [IMDB large movie review dataset](http://ai.stanford.edu/~amaas/data/sentiment/) for sentiment analysis."
      ]
    },
    {
      "cell_type": "markdown",
      "metadata": {
        "id": "_2VQo4bajwUU"
      },
      "source": [
        "## Setup"
      ]
    },
    {
      "cell_type": "code",
      "execution_count": 4,
      "metadata": {
        "id": "z682XYsrjkY9"
      },
      "outputs": [],
      "source": [
        "import numpy as np\n",
        "\n",
        "import tensorflow_datasets as tfds\n",
        "import tensorflow as tf\n",
        "\n",
        "tfds.disable_progress_bar()"
      ]
    },
    {
      "cell_type": "markdown",
      "metadata": {
        "id": "1rXHa-w9JZhb"
      },
      "source": [
        "Import `matplotlib` and create a helper function to plot graphs:"
      ]
    },
    {
      "cell_type": "code",
      "execution_count": 5,
      "metadata": {
        "id": "Mp1Z7P9pYRSK"
      },
      "outputs": [],
      "source": [
        "import matplotlib.pyplot as plt\n",
        "\n",
        "\n",
        "def plot_graphs(history, metric):\n",
        "  plt.plot(history.history[metric])\n",
        "  plt.plot(history.history['val_'+metric], '')\n",
        "  plt.xlabel(\"Epochs\")\n",
        "  plt.ylabel(metric)\n",
        "  plt.legend([metric, 'val_'+metric])"
      ]
    },
    {
      "cell_type": "markdown",
      "metadata": {
        "id": "pRmMubr0jrE2"
      },
      "source": [
        "## Setup input pipeline\n",
        "\n",
        "\n",
        "The IMDB large movie review dataset is a *binary classification* dataset—all the reviews have either a *positive* or *negative* sentiment.\n",
        "\n",
        "Download the dataset using [TFDS](https://www.tensorflow.org/datasets). See the [loading text tutorial](https://www.tensorflow.org/tutorials/load_data/text) for details on how to load this sort of data manually.\n"
      ]
    },
    {
      "cell_type": "code",
      "execution_count": 6,
      "metadata": {
        "id": "SHRwRoP2nVHX",
        "colab": {
          "base_uri": "https://localhost:8080/"
        },
        "outputId": "70479a07-15c0-40c2-c206-399df19b375d"
      },
      "outputs": [
        {
          "output_type": "stream",
          "name": "stdout",
          "text": [
            "Downloading and preparing dataset Unknown size (download: Unknown size, generated: Unknown size, total: Unknown size) to /root/tensorflow_datasets/imdb_reviews/plain_text/1.0.0...\n",
            "Dataset imdb_reviews downloaded and prepared to /root/tensorflow_datasets/imdb_reviews/plain_text/1.0.0. Subsequent calls will reuse this data.\n"
          ]
        },
        {
          "output_type": "execute_result",
          "data": {
            "text/plain": [
              "(TensorSpec(shape=(), dtype=tf.string, name=None),\n",
              " TensorSpec(shape=(), dtype=tf.int64, name=None))"
            ]
          },
          "metadata": {},
          "execution_count": 6
        }
      ],
      "source": [
        "dataset, info = tfds.load('imdb_reviews', with_info=True,\n",
        "                          as_supervised=True)\n",
        "train_dataset, test_dataset = dataset['train'], dataset['test']\n",
        "\n",
        "train_dataset.element_spec"
      ]
    },
    {
      "cell_type": "markdown",
      "metadata": {
        "id": "nWA4c2ir7g6p"
      },
      "source": [
        "Initially this returns a dataset of (text, label pairs):"
      ]
    },
    {
      "cell_type": "code",
      "execution_count": 7,
      "metadata": {
        "id": "vd4_BGKyurao",
        "colab": {
          "base_uri": "https://localhost:8080/"
        },
        "outputId": "efd341b8-fb8e-4a01-9290-2ecda2ac8feb"
      },
      "outputs": [
        {
          "output_type": "stream",
          "name": "stdout",
          "text": [
            "text:  b\"This was an absolutely terrible movie. Don't be lured in by Christopher Walken or Michael Ironside. Both are great actors, but this must simply be their worst role in history. Even their great acting could not redeem this movie's ridiculous storyline. This movie is an early nineties US propaganda piece. The most pathetic scenes were those when the Columbian rebels were making their cases for revolutions. Maria Conchita Alonso appeared phony, and her pseudo-love affair with Walken was nothing but a pathetic emotional plug in a movie that was devoid of any real meaning. I am disappointed that there are movies like this, ruining actor's like Christopher Walken's good name. I could barely sit through it.\"\n",
            "label:  0\n"
          ]
        }
      ],
      "source": [
        "for example, label in train_dataset.take(1):\n",
        "  print('text: ', example.numpy())\n",
        "  print('label: ', label.numpy())"
      ]
    },
    {
      "cell_type": "markdown",
      "metadata": {
        "id": "z2qVJzcEluH_"
      },
      "source": [
        "Next shuffle the data for training and create batches of these `(text, label)` pairs:"
      ]
    },
    {
      "cell_type": "code",
      "execution_count": 8,
      "metadata": {
        "id": "dDsCaZCDYZgm"
      },
      "outputs": [],
      "source": [
        "BUFFER_SIZE = 10000\n",
        "BATCH_SIZE = 64"
      ]
    },
    {
      "cell_type": "markdown",
      "source": [
        "**buffer size:** number of training examples utilized in one iteration\n",
        "\n",
        "**batch size:** number of experience used for one iteration (so like how many datapoint does it take for each chunk of processing)\n",
        "\n",
        "e.g. if buffer size is 1000 and batch size is 100, it'll take 10 iterations to go through\n",
        "\n",
        "we shuffle it, so the datapoints for the buffer size are randomly chosen"
      ],
      "metadata": {
        "id": "ltbm8Lk_pC6A"
      }
    },
    {
      "cell_type": "code",
      "execution_count": 9,
      "metadata": {
        "id": "VznrltNOnUc5"
      },
      "outputs": [],
      "source": [
        "train_dataset = train_dataset.shuffle(BUFFER_SIZE).batch(BATCH_SIZE).prefetch(tf.data.AUTOTUNE)\n",
        "test_dataset = test_dataset.batch(BATCH_SIZE).prefetch(tf.data.AUTOTUNE)"
      ]
    },
    {
      "cell_type": "code",
      "execution_count": 10,
      "metadata": {
        "id": "jqkvdcFv41wC",
        "colab": {
          "base_uri": "https://localhost:8080/"
        },
        "outputId": "8a0b6b74-5621-48a8-de05-25510d749a34"
      },
      "outputs": [
        {
          "output_type": "stream",
          "name": "stdout",
          "text": [
            "texts:  [b'Very good drama although it appeared to have a few blank areas leaving the viewers to fill in the action for themselves. I can imagine life being this way for someone who can neither read nor write. This film simply smacked of the real world: the wife who is suddenly the sole supporter, the live-in relatives and their quarrels, the troubled child who gets knocked up and then, typically, drops out of school, a jackass husband who takes the nest egg and buys beer with it. 2 thumbs up.'\n",
            " b\"Words fail me. This film was extremely difficult to watch and in hindsight I really wish I hadn't done it. Although I attempted to sit through it until the end credits I have to admit I couldn't last for more than hour, so my opinion could be unfair. However, this film would require the most impressive final third in the history of film-making in order for it to be given a review which is anything but vicious.<br /><br />Please do not watch any part of this film.\"\n",
            " b\"Munchies starts in deepest darkest Peru (looks more like a dirt road to me) where archaeologist Simon Watterman (Harvey Korman) & his son Paul (Charles Stratton) are on an expedition. Simon thinks that ancient Aztec buildings were in fact spacecraft control centres & he is on a mission to gain proof that alien lifeforms have visited Earth, while in once such structure he discovers a strange small creature which he sticks in his backpack & takes back home with him to the small American town of Sweetwater in California. Simon feels that the creature is the proof he has been looking for & for some inexplicable reason decides to leave the thing at home while he goes to share his discovery. Simon ask's Paul & his wife Cindy (Nadine Van der Velde) to take care of it. Meanwhile Simon's brother & fast-food businessman Cecil Watterman (Harvey Korman again) steals the creature so his brother won't make any money out of it, but his idiotic stepson Dude (Jon Stafford) has a fight with it & chops it up with a knife but the individual parts grow back into separate little creatures that proceed to cause much havoc amongst the townspeople...<br /><br />Directed by Bettina Hirsch this has to be one of the worst horror comedy's ever, if not the worst. The script by Lance Smith is so unfunny it's painful. Every joke in Munchies misses the target by the proverbial mile, I doubt the humour in this piece of crap would even appeal to pre-teens. There just isn't anything even remotely funny or even amusing in Munchies as far as I'm concerned. The basic story is crap too, they just happen to find this creature running around with no explanation of what it is, why no-ones ever seen it before, how it manages to learn English so quickly & how it learns to drive etc. The whole thing is a big Gremlins (1984) rip-off with none of the elements that made that film so good. The character's are moronic, the stupid Deputy (Charlie Phillips) & his dad (Hardy Rawls), Cecil wearing an embarrassing wig & fake moustache & his air head wife Melvis (Alix Elias) & more besides. They just plain embarrass & are ridiculous, I defy anyone to find any of this rancid rubbish funny. Basically Munchies fails spectacularly at being either a comedy or horror & ends up being, yes you've guessed it, crap.<br /><br />Director Hirsch was obviously working with a low budget here & it shows, the entire thing takes place in two houses, the desert, some caves & a miniature golf course. This is really cheap & incompetent film-making. The special effects on the Munchies themselves are really awful, their just dolls that have no movement unless someone off camera pulls a string attached to it's arm. I cannot stress how bad the effects are, these things wouldn't convince my 4 year old nephew (as proved by me & him yesterday!). Total incompetence all the way, this film sucks.<br /><br />Technically the film is terrible, bad special effects, lame production design, rubbish sets & well, just everything's crap. The acting is rotten through & through, from the cops to Korman who has two roles both of which prove he can't act & isn't funny.<br /><br />Munchies is a really bad film that fails in everything that it tries to achieve, sure watch it if you want I won't stop you but just don't say you weren't warned! My advice would be to watch Gremlins again instead, but the decision is yours!\"]\n",
            "\n",
            "labels:  [1 0 0]\n"
          ]
        }
      ],
      "source": [
        "for example, label in train_dataset.take(1):\n",
        "  print('texts: ', example.numpy()[:3])\n",
        "  print()\n",
        "  print('labels: ', label.numpy()[:3])"
      ]
    },
    {
      "cell_type": "markdown",
      "metadata": {
        "id": "s5eWCo88voPY"
      },
      "source": [
        "## Create the text encoder"
      ]
    },
    {
      "cell_type": "markdown",
      "metadata": {
        "id": "TFevcItw15P_"
      },
      "source": [
        "The raw text loaded by `tfds` needs to be processed before it can be used in a model. The simplest way to process text for training is using the `TextVectorization` layer. This layer has many capabilities, but this tutorial sticks to the default behavior.\n",
        "\n",
        "Create the layer, and pass the dataset's text to the layer's `.adapt` method:"
      ]
    },
    {
      "cell_type": "code",
      "execution_count": 11,
      "metadata": {
        "id": "uC25Lu1Yvuqy",
        "colab": {
          "base_uri": "https://localhost:8080/"
        },
        "outputId": "1198195c-4b05-4151-ce63-0cba528bdb83"
      },
      "outputs": [
        {
          "output_type": "stream",
          "name": "stderr",
          "text": [
            "WARNING:tensorflow:From /usr/local/lib/python3.9/dist-packages/tensorflow/python/autograph/pyct/static_analysis/liveness.py:83: Analyzer.lamba_check (from tensorflow.python.autograph.pyct.static_analysis.liveness) is deprecated and will be removed after 2023-09-23.\n",
            "Instructions for updating:\n",
            "Lambda fuctions will be no more assumed to be used in the statement where they are used, or at least in the same block. https://github.com/tensorflow/tensorflow/issues/56089\n"
          ]
        }
      ],
      "source": [
        "VOCAB_SIZE = 1000\n",
        "encoder = tf.keras.layers.TextVectorization(\n",
        "    max_tokens=VOCAB_SIZE)\n",
        "encoder.adapt(train_dataset.map(lambda text, label: text))"
      ]
    },
    {
      "cell_type": "markdown",
      "metadata": {
        "id": "IuQzVBbe3Ldu"
      },
      "source": [
        "The `.adapt` method sets the layer's vocabulary. Here are the first 20 tokens. After the padding and unknown tokens they're sorted by frequency: "
      ]
    },
    {
      "cell_type": "code",
      "execution_count": 12,
      "metadata": {
        "id": "tBoyjjWg0Ac9",
        "colab": {
          "base_uri": "https://localhost:8080/"
        },
        "outputId": "b7489cb7-3981-49f9-e6b7-f30c5280cef4"
      },
      "outputs": [
        {
          "output_type": "execute_result",
          "data": {
            "text/plain": [
              "array(['', '[UNK]', 'the', 'and', 'a', 'of', 'to', 'is', 'in', 'it', 'i',\n",
              "       'this', 'that', 'br', 'was', 'as', 'for', 'with', 'movie', 'but'],\n",
              "      dtype='<U14')"
            ]
          },
          "metadata": {},
          "execution_count": 12
        }
      ],
      "source": [
        "vocab = np.array(encoder.get_vocabulary())\n",
        "vocab[:20]"
      ]
    },
    {
      "cell_type": "markdown",
      "metadata": {
        "id": "mjId5pua3jHQ"
      },
      "source": [
        "Once the vocabulary is set, the layer can encode text into indices. The tensors of indices are 0-padded to the longest sequence in the batch (unless you set a fixed `output_sequence_length`):"
      ]
    },
    {
      "cell_type": "code",
      "execution_count": 13,
      "metadata": {
        "id": "RGc7C9WiwRWs",
        "colab": {
          "base_uri": "https://localhost:8080/"
        },
        "outputId": "2064d27c-38a4-4325-d7bc-45ba82130db2"
      },
      "outputs": [
        {
          "output_type": "execute_result",
          "data": {
            "text/plain": [
              "array([[ 53,  50, 477, ...,   0,   0,   0],\n",
              "       [694,   1,  70, ...,   0,   0,   0],\n",
              "       [  1, 500,   8, ...,   0,   0,   0]])"
            ]
          },
          "metadata": {},
          "execution_count": 13
        }
      ],
      "source": [
        "encoded_example = encoder(example)[:3].numpy()\n",
        "encoded_example"
      ]
    },
    {
      "cell_type": "markdown",
      "metadata": {
        "id": "F5cjz0bS39IN"
      },
      "source": [
        "With the default settings, the process is not completely reversible. There are three main reasons for that:\n",
        "\n",
        "1. The default value for `preprocessing.TextVectorization`'s `standardize` argument is `\"lower_and_strip_punctuation\"`.\n",
        "2. The limited vocabulary size and lack of character-based fallback results in some unknown tokens."
      ]
    },
    {
      "cell_type": "code",
      "execution_count": 14,
      "metadata": {
        "id": "N_tD0QY5wXaK",
        "colab": {
          "base_uri": "https://localhost:8080/"
        },
        "outputId": "d0239187-6a75-4d08-c49b-da839bb39e7d"
      },
      "outputs": [
        {
          "output_type": "stream",
          "name": "stdout",
          "text": [
            "Original:  b'Very good drama although it appeared to have a few blank areas leaving the viewers to fill in the action for themselves. I can imagine life being this way for someone who can neither read nor write. This film simply smacked of the real world: the wife who is suddenly the sole supporter, the live-in relatives and their quarrels, the troubled child who gets knocked up and then, typically, drops out of school, a jackass husband who takes the nest egg and buys beer with it. 2 thumbs up.'\n",
            "Round-trip:  very good drama although it [UNK] to have a few [UNK] [UNK] [UNK] the viewers to [UNK] in the action for themselves i can imagine life being this way for someone who can [UNK] read nor write this film simply [UNK] of the real world the wife who is [UNK] the [UNK] [UNK] the [UNK] [UNK] and their [UNK] the [UNK] child who gets [UNK] up and then [UNK] [UNK] out of school a [UNK] husband who takes the [UNK] [UNK] and [UNK] [UNK] with it 2 [UNK] up                                                                                                                                                                                                                                                                                                                                                                                                                                                                                                                                                                                                                                                                                                                                                                                                                                                                                                                                        \n",
            "\n",
            "Original:  b\"Words fail me. This film was extremely difficult to watch and in hindsight I really wish I hadn't done it. Although I attempted to sit through it until the end credits I have to admit I couldn't last for more than hour, so my opinion could be unfair. However, this film would require the most impressive final third in the history of film-making in order for it to be given a review which is anything but vicious.<br /><br />Please do not watch any part of this film.\"\n",
            "Round-trip:  words [UNK] me this film was extremely difficult to watch and in [UNK] i really wish i [UNK] done it although i [UNK] to sit through it until the end credits i have to admit i couldnt last for more than hour so my opinion could be [UNK] however this film would [UNK] the most [UNK] final third in the history of [UNK] in order for it to be given a review which is anything but [UNK] br please do not watch any part of this film                                                                                                                                                                                                                                                                                                                                                                                                                                                                                                                                                                                                                                                                                                                                                                                                                                                                                                                                          \n",
            "\n",
            "Original:  b\"Munchies starts in deepest darkest Peru (looks more like a dirt road to me) where archaeologist Simon Watterman (Harvey Korman) & his son Paul (Charles Stratton) are on an expedition. Simon thinks that ancient Aztec buildings were in fact spacecraft control centres & he is on a mission to gain proof that alien lifeforms have visited Earth, while in once such structure he discovers a strange small creature which he sticks in his backpack & takes back home with him to the small American town of Sweetwater in California. Simon feels that the creature is the proof he has been looking for & for some inexplicable reason decides to leave the thing at home while he goes to share his discovery. Simon ask's Paul & his wife Cindy (Nadine Van der Velde) to take care of it. Meanwhile Simon's brother & fast-food businessman Cecil Watterman (Harvey Korman again) steals the creature so his brother won't make any money out of it, but his idiotic stepson Dude (Jon Stafford) has a fight with it & chops it up with a knife but the individual parts grow back into separate little creatures that proceed to cause much havoc amongst the townspeople...<br /><br />Directed by Bettina Hirsch this has to be one of the worst horror comedy's ever, if not the worst. The script by Lance Smith is so unfunny it's painful. Every joke in Munchies misses the target by the proverbial mile, I doubt the humour in this piece of crap would even appeal to pre-teens. There just isn't anything even remotely funny or even amusing in Munchies as far as I'm concerned. The basic story is crap too, they just happen to find this creature running around with no explanation of what it is, why no-ones ever seen it before, how it manages to learn English so quickly & how it learns to drive etc. The whole thing is a big Gremlins (1984) rip-off with none of the elements that made that film so good. The character's are moronic, the stupid Deputy (Charlie Phillips) & his dad (Hardy Rawls), Cecil wearing an embarrassing wig & fake moustache & his air head wife Melvis (Alix Elias) & more besides. They just plain embarrass & are ridiculous, I defy anyone to find any of this rancid rubbish funny. Basically Munchies fails spectacularly at being either a comedy or horror & ends up being, yes you've guessed it, crap.<br /><br />Director Hirsch was obviously working with a low budget here & it shows, the entire thing takes place in two houses, the desert, some caves & a miniature golf course. This is really cheap & incompetent film-making. The special effects on the Munchies themselves are really awful, their just dolls that have no movement unless someone off camera pulls a string attached to it's arm. I cannot stress how bad the effects are, these things wouldn't convince my 4 year old nephew (as proved by me & him yesterday!). Total incompetence all the way, this film sucks.<br /><br />Technically the film is terrible, bad special effects, lame production design, rubbish sets & well, just everything's crap. The acting is rotten through & through, from the cops to Korman who has two roles both of which prove he can't act & isn't funny.<br /><br />Munchies is a really bad film that fails in everything that it tries to achieve, sure watch it if you want I won't stop you but just don't say you weren't warned! My advice would be to watch Gremlins again instead, but the decision is yours!\"\n",
            "Round-trip:  [UNK] starts in [UNK] [UNK] [UNK] looks more like a [UNK] [UNK] to me where [UNK] [UNK] [UNK] [UNK] [UNK] his son paul [UNK] [UNK] are on an [UNK] [UNK] [UNK] that [UNK] [UNK] [UNK] were in fact [UNK] [UNK] [UNK] he is on a [UNK] to [UNK] [UNK] that [UNK] [UNK] have [UNK] earth while in once such [UNK] he [UNK] a strange small [UNK] which he [UNK] in his [UNK] takes back home with him to the small american town of [UNK] in [UNK] [UNK] feels that the [UNK] is the [UNK] he has been looking for for some [UNK] reason [UNK] to leave the thing at home while he goes to [UNK] his [UNK] [UNK] [UNK] paul his wife [UNK] [UNK] [UNK] [UNK] [UNK] to take care of it [UNK] [UNK] brother [UNK] [UNK] [UNK] [UNK] [UNK] [UNK] again [UNK] the [UNK] so his brother wont make any money out of it but his [UNK] [UNK] [UNK] [UNK] [UNK] has a fight with it [UNK] it up with a [UNK] but the [UNK] parts [UNK] back into [UNK] little [UNK] that [UNK] to [UNK] much [UNK] [UNK] the [UNK] br directed by [UNK] [UNK] this has to be one of the worst horror [UNK] ever if not the worst the script by [UNK] [UNK] is so [UNK] its [UNK] every joke in [UNK] [UNK] the [UNK] by the [UNK] [UNK] i doubt the [UNK] in this piece of crap would even [UNK] to [UNK] there just isnt anything even [UNK] funny or even [UNK] in [UNK] as far as im [UNK] the [UNK] story is crap too they just happen to find this [UNK] running around with no [UNK] of what it is why [UNK] ever seen it before how it manages to learn english so quickly how it [UNK] to [UNK] etc the whole thing is a big [UNK] [UNK] [UNK] with none of the elements that made that film so good the characters are [UNK] the stupid [UNK] [UNK] [UNK] his [UNK] [UNK] [UNK] [UNK] [UNK] an [UNK] [UNK] [UNK] [UNK] his air head wife [UNK] [UNK] [UNK] more [UNK] they just [UNK] [UNK] are ridiculous i [UNK] anyone to find any of this [UNK] [UNK] funny basically [UNK] fails [UNK] at being either a comedy or horror ends up being yes youve [UNK] it [UNK] br director [UNK] was obviously working with a low budget here it shows the entire thing takes place in two [UNK] the [UNK] some [UNK] a [UNK] [UNK] course this is really cheap [UNK] [UNK] the special effects on the [UNK] themselves are really awful their just [UNK] that have no [UNK] unless someone off camera [UNK] a [UNK] [UNK] to its [UNK] i cannot [UNK] how bad the effects are these things wouldnt [UNK] my 4 year old [UNK] as [UNK] by me him [UNK] total [UNK] all the way this film [UNK] br [UNK] the film is terrible bad special effects lame production [UNK] [UNK] sets well just [UNK] crap the acting is [UNK] through through from the [UNK] to [UNK] who has two roles both of which [UNK] he cant act isnt [UNK] br [UNK] is a really bad film that fails in everything that it tries to [UNK] sure watch it if you want i wont stop you but just dont say you [UNK] [UNK] my [UNK] would be to watch [UNK] again instead but the [UNK] is [UNK]                                                                                                                                                                                                                                                                                                                                                                                                                                   \n",
            "\n"
          ]
        }
      ],
      "source": [
        "for n in range(3):\n",
        "  print(\"Original: \", example[n].numpy())\n",
        "  print(\"Round-trip: \", \" \".join(vocab[encoded_example[n]]))\n",
        "  print()"
      ]
    },
    {
      "cell_type": "markdown",
      "metadata": {
        "id": "bjUqGVBxGw-t"
      },
      "source": [
        "## Create the model"
      ]
    },
    {
      "cell_type": "markdown",
      "metadata": {
        "id": "W7zsmInBOCPO"
      },
      "source": [
        "![A drawing of the information flow in the model](https://github.com/tensorflow/text/blob/master/docs/tutorials/images/bidirectional.png?raw=1)"
      ]
    },
    {
      "cell_type": "markdown",
      "metadata": {
        "id": "bgs6nnSTGw-t"
      },
      "source": [
        "Above is a diagram of the model. \n",
        "\n",
        "1. This model can be build as a `tf.keras.Sequential`.\n",
        "\n",
        "2. The first layer is the `encoder`, which converts the text to a sequence of token indices.\n",
        "\n",
        "3. After the encoder is an embedding layer. An embedding layer stores one vector per word. When called, it converts the sequences of word indices to sequences of vectors. These vectors are trainable. After training (on enough data), words with similar meanings often have similar vectors.\n",
        "\n",
        "  This index-lookup is much more efficient than the equivalent operation of passing a one-hot encoded vector through a `tf.keras.layers.Dense` layer.\n",
        "\n",
        "4. A recurrent neural network (RNN) processes sequence input by iterating through the elements. RNNs pass the outputs from one timestep to their input on the next timestep.\n",
        "\n",
        "  The `tf.keras.layers.Bidirectional` wrapper can also be used with an RNN layer. This propagates the input forward and backwards through the RNN layer and then concatenates the final output. \n",
        "\n",
        "  * The main advantage of a bidirectional RNN is that the signal from the beginning of the input doesn't need to be processed all the way through every timestep to affect the output.  \n",
        "\n",
        "  * The main disadvantage of a bidirectional RNN is that you can't efficiently stream predictions as words are being added to the end.\n",
        "\n",
        "5. After the RNN has converted the sequence to a single vector the two `layers.Dense` do some final processing, and convert from this vector representation to a single logit as the classification output. \n"
      ]
    },
    {
      "cell_type": "markdown",
      "metadata": {
        "id": "V4fodCI7soQi"
      },
      "source": [
        "The code to implement this is below:"
      ]
    },
    {
      "cell_type": "code",
      "execution_count": 15,
      "metadata": {
        "id": "LwfoBkmRYcP3"
      },
      "outputs": [],
      "source": [
        "model = tf.keras.Sequential([\n",
        "    encoder,\n",
        "    tf.keras.layers.Embedding(\n",
        "        input_dim=len(encoder.get_vocabulary()),\n",
        "        output_dim=64,\n",
        "        # Use masking to handle the variable sequence lengths\n",
        "        mask_zero=True),\n",
        "    tf.keras.layers.Bidirectional(tf.keras.layers.LSTM(64)),\n",
        "    tf.keras.layers.Dense(64, activation='relu'),\n",
        "    tf.keras.layers.Dense(1)\n",
        "])"
      ]
    },
    {
      "cell_type": "markdown",
      "metadata": {
        "id": "QIGmIGkkouUb"
      },
      "source": [
        "Please note that Keras sequential model is used here since all the layers in the model only have single input and produce single output. In case you want to use stateful RNN layer, you might want to build your model with Keras functional API or model subclassing so that you can retrieve and reuse the RNN layer states. Please check [Keras RNN guide](https://www.tensorflow.org/guide/keras/rnn#rnn_state_reuse) for more details."
      ]
    },
    {
      "cell_type": "markdown",
      "metadata": {
        "id": "kF-PsCk1LwjY"
      },
      "source": [
        "The embedding layer [uses masking](https://www.tensorflow.org/guide/keras/masking_and_padding) to handle the varying sequence-lengths. All the layers after the `Embedding` support masking:"
      ]
    },
    {
      "cell_type": "code",
      "execution_count": 16,
      "metadata": {
        "id": "87a8-CwfKebw",
        "colab": {
          "base_uri": "https://localhost:8080/"
        },
        "outputId": "b7b0b26e-4ad1-428c-883a-7814ded4b65a"
      },
      "outputs": [
        {
          "output_type": "stream",
          "name": "stdout",
          "text": [
            "[False, True, True, True, True]\n"
          ]
        }
      ],
      "source": [
        "print([layer.supports_masking for layer in model.layers])"
      ]
    },
    {
      "cell_type": "markdown",
      "metadata": {
        "id": "ZlS0iaUIWLpI"
      },
      "source": [
        "To confirm that this works as expected, evaluate a sentence twice. First, alone so there's no padding to mask:"
      ]
    },
    {
      "cell_type": "code",
      "execution_count": 17,
      "metadata": {
        "id": "O41gw3KfWHus",
        "colab": {
          "base_uri": "https://localhost:8080/"
        },
        "outputId": "8afc1be6-d850-47eb-ce70-43d0141e90c3"
      },
      "outputs": [
        {
          "output_type": "stream",
          "name": "stdout",
          "text": [
            "1/1 [==============================] - 7s 7s/step\n",
            "[-0.00303278]\n"
          ]
        }
      ],
      "source": [
        "# predict on a sample text without padding.\n",
        "\n",
        "sample_text = ('The movie was cool. The animation and the graphics '\n",
        "               'were out of this world. I would recommend this movie.')\n",
        "predictions = model.predict(np.array([sample_text]))\n",
        "print(predictions[0])"
      ]
    },
    {
      "cell_type": "markdown",
      "metadata": {
        "id": "K0VQmGnEWcuz"
      },
      "source": [
        "Now, evaluate it again in a batch with a longer sentence. The result should be identical:"
      ]
    },
    {
      "cell_type": "code",
      "execution_count": 18,
      "metadata": {
        "id": "UIgpuTeFNDzq",
        "colab": {
          "base_uri": "https://localhost:8080/"
        },
        "outputId": "033aee55-6479-404f-b5e2-110efe8e6243"
      },
      "outputs": [
        {
          "output_type": "stream",
          "name": "stdout",
          "text": [
            "1/1 [==============================] - 0s 67ms/step\n",
            "[-0.00303278]\n"
          ]
        }
      ],
      "source": [
        "# predict on a sample text with padding\n",
        "\n",
        "padding = \"the \" * 2000\n",
        "predictions = model.predict(np.array([sample_text, padding]))\n",
        "print(predictions[0])"
      ]
    },
    {
      "cell_type": "markdown",
      "metadata": {
        "id": "sRI776ZcH3Tf"
      },
      "source": [
        "Compile the Keras model to configure the training process:"
      ]
    },
    {
      "cell_type": "code",
      "execution_count": 19,
      "metadata": {
        "id": "kj2xei41YZjC"
      },
      "outputs": [],
      "source": [
        "model.compile(loss=tf.keras.losses.BinaryCrossentropy(from_logits=True),\n",
        "              optimizer=tf.keras.optimizers.Adam(1e-4),\n",
        "              metrics=['accuracy'])"
      ]
    },
    {
      "cell_type": "markdown",
      "metadata": {
        "id": "zIwH3nto596k"
      },
      "source": [
        "## Train the model"
      ]
    },
    {
      "cell_type": "code",
      "execution_count": 20,
      "metadata": {
        "id": "hw86wWS4YgR2",
        "colab": {
          "base_uri": "https://localhost:8080/"
        },
        "outputId": "d7aba6a9-3f78-4667-a3ce-1ea6e18df10f"
      },
      "outputs": [
        {
          "output_type": "stream",
          "name": "stdout",
          "text": [
            "Epoch 1/10\n",
            "391/391 [==============================] - 48s 97ms/step - loss: 0.6489 - accuracy: 0.5695 - val_loss: 0.5219 - val_accuracy: 0.7339\n",
            "Epoch 2/10\n",
            "391/391 [==============================] - 26s 65ms/step - loss: 0.4304 - accuracy: 0.7968 - val_loss: 0.3789 - val_accuracy: 0.8219\n",
            "Epoch 3/10\n",
            "391/391 [==============================] - 24s 61ms/step - loss: 0.3686 - accuracy: 0.8374 - val_loss: 0.3646 - val_accuracy: 0.8422\n",
            "Epoch 4/10\n",
            "391/391 [==============================] - 26s 65ms/step - loss: 0.3341 - accuracy: 0.8566 - val_loss: 0.3371 - val_accuracy: 0.8490\n",
            "Epoch 5/10\n",
            "391/391 [==============================] - 24s 61ms/step - loss: 0.3201 - accuracy: 0.8624 - val_loss: 0.3292 - val_accuracy: 0.8573\n",
            "Epoch 6/10\n",
            "391/391 [==============================] - 23s 59ms/step - loss: 0.3102 - accuracy: 0.8646 - val_loss: 0.3276 - val_accuracy: 0.8568\n",
            "Epoch 7/10\n",
            "391/391 [==============================] - 24s 60ms/step - loss: 0.3082 - accuracy: 0.8671 - val_loss: 0.3215 - val_accuracy: 0.8547\n",
            "Epoch 8/10\n",
            "391/391 [==============================] - 24s 61ms/step - loss: 0.3022 - accuracy: 0.8692 - val_loss: 0.3230 - val_accuracy: 0.8568\n",
            "Epoch 9/10\n",
            "391/391 [==============================] - 24s 61ms/step - loss: 0.2998 - accuracy: 0.8709 - val_loss: 0.3393 - val_accuracy: 0.8370\n",
            "Epoch 10/10\n",
            "391/391 [==============================] - 26s 66ms/step - loss: 0.3019 - accuracy: 0.8698 - val_loss: 0.3196 - val_accuracy: 0.8568\n"
          ]
        }
      ],
      "source": [
        "history = model.fit(train_dataset, epochs=10,\n",
        "                    validation_data=test_dataset,\n",
        "                    validation_steps=30)"
      ]
    },
    {
      "cell_type": "code",
      "execution_count": 21,
      "metadata": {
        "id": "BaNbXi43YgUT",
        "colab": {
          "base_uri": "https://localhost:8080/"
        },
        "outputId": "df64d7a8-22bf-4dba-b837-ef270f1e3fbe"
      },
      "outputs": [
        {
          "output_type": "stream",
          "name": "stdout",
          "text": [
            "391/391 [==============================] - 12s 31ms/step - loss: 0.3162 - accuracy: 0.8621\n",
            "Test Loss: 0.31620529294013977\n",
            "Test Accuracy: 0.8621199727058411\n"
          ]
        }
      ],
      "source": [
        "test_loss, test_acc = model.evaluate(test_dataset)\n",
        "\n",
        "print('Test Loss:', test_loss)\n",
        "print('Test Accuracy:', test_acc)"
      ]
    },
    {
      "cell_type": "code",
      "execution_count": 22,
      "metadata": {
        "id": "OZmwt_mzaQJk",
        "colab": {
          "base_uri": "https://localhost:8080/",
          "height": 518
        },
        "outputId": "3292ddb7-0370-479d-c85e-c22aa6975c60"
      },
      "outputs": [
        {
          "output_type": "execute_result",
          "data": {
            "text/plain": [
              "(0.0, 0.666310727596283)"
            ]
          },
          "metadata": {},
          "execution_count": 22
        },
        {
          "output_type": "display_data",
          "data": {
            "text/plain": [
              "<Figure size 1152x576 with 2 Axes>"
            ],
            "image/png": "[encoded data removed]"
          },
          "metadata": {
            "needs_background": "light"
          }
        }
      ],
      "source": [
        "plt.figure(figsize=(16, 8))\n",
        "plt.subplot(1, 2, 1)\n",
        "plot_graphs(history, 'accuracy')\n",
        "plt.ylim(None, 1)\n",
        "plt.subplot(1, 2, 2)\n",
        "plot_graphs(history, 'loss')\n",
        "plt.ylim(0, None)"
      ]
    },
    {
      "cell_type": "markdown",
      "metadata": {
        "id": "DwSE_386uhxD"
      },
      "source": [
        "Run a prediction on a new sentence:\n",
        "\n",
        "If the prediction is >= 0.0, it is positive else it is negative."
      ]
    },
    {
      "cell_type": "code",
      "execution_count": 23,
      "metadata": {
        "id": "ZXgfQSgRW6zU",
        "colab": {
          "base_uri": "https://localhost:8080/"
        },
        "outputId": "be3c1df3-6499-4151-ba9b-808ee8398762"
      },
      "outputs": [
        {
          "output_type": "stream",
          "name": "stdout",
          "text": [
            "1/1 [==============================] - 3s 3s/step\n"
          ]
        }
      ],
      "source": [
        "sample_text = ('The movie was cool. The animation and the graphics '\n",
        "               'were out of this world. I would recommend this movie.')\n",
        "predictions = model.predict(np.array([sample_text]))"
      ]
    },
    {
      "cell_type": "markdown",
      "metadata": {
        "id": "7g1evcaRpTKm"
      },
      "source": [
        "## Stack two or more LSTM layers\n",
        "\n",
        "Keras recurrent layers have two available modes that are controlled by the `return_sequences` constructor argument:\n",
        "\n",
        "* If `False` it returns only the last output for each input sequence (a 2D tensor of shape (batch_size, output_features)). This is the default, used in the previous model.\n",
        "\n",
        "* If `True` the full sequences of successive outputs for each timestep is returned (a 3D tensor of shape `(batch_size, timesteps, output_features)`).\n",
        "\n",
        "Here is what the flow of information looks like with `return_sequences=True`:\n",
        "\n",
        "![layered_bidirectional](https://github.com/tensorflow/text/blob/master/docs/tutorials/images/layered_bidirectional.png?raw=1)"
      ]
    },
    {
      "cell_type": "markdown",
      "metadata": {
        "id": "wbSClCrG1z8l"
      },
      "source": [
        "The interesting thing about using an `RNN` with `return_sequences=True` is that the output still has 3-axes, like the input, so it can be passed to another RNN layer, like this:"
      ]
    },
    {
      "cell_type": "code",
      "execution_count": 24,
      "metadata": {
        "id": "jo1jjO3vn0jo"
      },
      "outputs": [],
      "source": [
        "model = tf.keras.Sequential([\n",
        "    encoder,\n",
        "    tf.keras.layers.Embedding(len(encoder.get_vocabulary()), 64, mask_zero=True),\n",
        "    tf.keras.layers.Bidirectional(tf.keras.layers.LSTM(64,  return_sequences=True)),\n",
        "    tf.keras.layers.Bidirectional(tf.keras.layers.LSTM(32)),\n",
        "    tf.keras.layers.Dense(64, activation='relu'),\n",
        "    tf.keras.layers.Dropout(0.5),\n",
        "    tf.keras.layers.Dense(1)\n",
        "])"
      ]
    },
    {
      "cell_type": "code",
      "execution_count": 25,
      "metadata": {
        "id": "hEPV5jVGp-is"
      },
      "outputs": [],
      "source": [
        "model.compile(loss=tf.keras.losses.BinaryCrossentropy(from_logits=True),\n",
        "              optimizer=tf.keras.optimizers.Adam(1e-4),\n",
        "              metrics=['accuracy'])"
      ]
    },
    {
      "cell_type": "code",
      "execution_count": 26,
      "metadata": {
        "id": "LeSE-YjdqAeN",
        "colab": {
          "base_uri": "https://localhost:8080/"
        },
        "outputId": "7ad27ced-5734-40b4-843d-4c7f4c23b178"
      },
      "outputs": [
        {
          "output_type": "stream",
          "name": "stdout",
          "text": [
            "Epoch 1/10\n",
            "391/391 [==============================] - 78s 159ms/step - loss: 0.6019 - accuracy: 0.6054 - val_loss: 0.4178 - val_accuracy: 0.8135\n",
            "Epoch 2/10\n",
            "391/391 [==============================] - 52s 133ms/step - loss: 0.3811 - accuracy: 0.8350 - val_loss: 0.3450 - val_accuracy: 0.8516\n",
            "Epoch 3/10\n",
            "391/391 [==============================] - 53s 135ms/step - loss: 0.3316 - accuracy: 0.8600 - val_loss: 0.3391 - val_accuracy: 0.8370\n",
            "Epoch 4/10\n",
            "391/391 [==============================] - 45s 115ms/step - loss: 0.3178 - accuracy: 0.8645 - val_loss: 0.3266 - val_accuracy: 0.8599\n",
            "Epoch 5/10\n",
            "391/391 [==============================] - 46s 116ms/step - loss: 0.3113 - accuracy: 0.8672 - val_loss: 0.3205 - val_accuracy: 0.8542\n",
            "Epoch 6/10\n",
            "391/391 [==============================] - 43s 110ms/step - loss: 0.3079 - accuracy: 0.8694 - val_loss: 0.3213 - val_accuracy: 0.8479\n",
            "Epoch 7/10\n",
            "391/391 [==============================] - 45s 115ms/step - loss: 0.3002 - accuracy: 0.8725 - val_loss: 0.3285 - val_accuracy: 0.8594\n",
            "Epoch 8/10\n",
            "391/391 [==============================] - 43s 110ms/step - loss: 0.2993 - accuracy: 0.8742 - val_loss: 0.3249 - val_accuracy: 0.8682\n",
            "Epoch 9/10\n",
            "391/391 [==============================] - 43s 110ms/step - loss: 0.3001 - accuracy: 0.8714 - val_loss: 0.3227 - val_accuracy: 0.8656\n",
            "Epoch 10/10\n",
            "391/391 [==============================] - 54s 137ms/step - loss: 0.2972 - accuracy: 0.8754 - val_loss: 0.3214 - val_accuracy: 0.8589\n"
          ]
        }
      ],
      "source": [
        "history = model.fit(train_dataset, epochs=10,\n",
        "                    validation_data=test_dataset,\n",
        "                    validation_steps=30)"
      ]
    },
    {
      "cell_type": "markdown",
      "source": [
        "history contains the data about the quality of the training (the loss and everything)"
      ],
      "metadata": {
        "id": "UoZXkRo1q7z9"
      }
    },
    {
      "cell_type": "code",
      "execution_count": 27,
      "metadata": {
        "id": "_LdwilM1qPM3",
        "colab": {
          "base_uri": "https://localhost:8080/"
        },
        "outputId": "c023e012-6e5d-42d7-8139-f329c7ec5e8e"
      },
      "outputs": [
        {
          "output_type": "stream",
          "name": "stdout",
          "text": [
            "391/391 [==============================] - 19s 47ms/step - loss: 0.3150 - accuracy: 0.8612\n",
            "Test Loss: 0.31504157185554504\n",
            "Test Accuracy: 0.8611599802970886\n"
          ]
        }
      ],
      "source": [
        "test_loss, test_acc = model.evaluate(test_dataset)\n",
        "\n",
        "print('Test Loss:', test_loss)\n",
        "print('Test Accuracy:', test_acc)"
      ]
    },
    {
      "cell_type": "code",
      "execution_count": 28,
      "metadata": {
        "id": "ykUKnAoqbycW",
        "colab": {
          "base_uri": "https://localhost:8080/"
        },
        "outputId": "8988e52c-61fe-4bb2-f1a5-4b507d3d6a0c"
      },
      "outputs": [
        {
          "output_type": "stream",
          "name": "stdout",
          "text": [
            "1/1 [==============================] - 4s 4s/step\n",
            "[[-1.8897222]]\n"
          ]
        }
      ],
      "source": [
        "# predict on a sample text without padding.\n",
        "\n",
        "sample_text = ('The movie was not good. The animation and the graphics '\n",
        "               'were terrible. I would not recommend this movie.')\n",
        "predictions = model.predict(np.array([sample_text]))\n",
        "print(predictions)"
      ]
    },
    {
      "cell_type": "code",
      "execution_count": 29,
      "metadata": {
        "id": "_YYub0EDtwCu",
        "colab": {
          "base_uri": "https://localhost:8080/",
          "height": 388
        },
        "outputId": "0f329b17-b281-49b7-eefb-38885114ead3"
      },
      "outputs": [
        {
          "output_type": "display_data",
          "data": {
            "text/plain": [
              "<Figure size 1152x432 with 2 Axes>"
            ],
            "image/png": "[encoded data removed]"
          },
          "metadata": {
            "needs_background": "light"
          }
        }
      ],
      "source": [
        "plt.figure(figsize=(16, 6))\n",
        "plt.subplot(1, 2, 1)\n",
        "plot_graphs(history, 'accuracy')\n",
        "plt.subplot(1, 2, 2)\n",
        "plot_graphs(history, 'loss')"
      ]
    },
    {
      "cell_type": "markdown",
      "metadata": {
        "id": "9xvpE3BaGw_V"
      },
      "source": [
        "Check out other existing recurrent layers such as [GRU layers](https://www.tensorflow.org/api_docs/python/tf/keras/layers/GRU).\n",
        "\n",
        "If you're interested in building custom RNNs, see the [Keras RNN Guide](https://www.tensorflow.org/guide/keras/rnn).\n"
      ]
    }
  ],
  "metadata": {
    "accelerator": "GPU",
    "colab": {
      "name": "text_classification_rnn.ipynb",
      "provenance": [],
      "toc_visible": true
    },
    "kernelspec": {
      "display_name": "Python 3",
      "name": "python3"
    }
  },
  "nbformat": 4,
  "nbformat_minor": 0
}